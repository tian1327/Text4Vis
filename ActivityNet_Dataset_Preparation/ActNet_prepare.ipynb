{
 "cells": [
  {
   "cell_type": "code",
   "execution_count": 5,
   "metadata": {},
   "outputs": [
    {
     "name": "stdout",
     "output_type": "stream",
     "text": [
      "Downloading split 'validation' to '/Users/tian/fiftyone/activitynet-200/validation' if necessary\n",
      "Dataset info written to '/Users/tian/fiftyone/activitynet-200/info.json'\n",
      "Loading 'activitynet-200' split 'validation'\n",
      " 100% |█████████████████████| 5/5 [9.3s elapsed, 0s remaining, 0.5 samples/s]    \n",
      "Dataset 'activitynet-200-validation-5' created\n"
     ]
    },
    {
     "data": {
      "text/html": [
       "\n",
       "        <iframe\n",
       "            width=\"100%\"\n",
       "            height=\"800\"\n",
       "            src=\"http://localhost:5151/?notebook=True&subscription=8e9b46d5-762b-40a4-9c71-d48130191244\"\n",
       "            frameborder=\"0\"\n",
       "            allowfullscreen\n",
       "            \n",
       "        ></iframe>\n",
       "        "
      ],
      "text/plain": [
       "<IPython.lib.display.IFrame at 0x7f8dcae4a130>"
      ]
     },
     "metadata": {},
     "output_type": "display_data"
    }
   ],
   "source": [
    "# download the ActivityNet-v1.3 dataset\n",
    "import fiftyone as fo\n",
    "import fiftyone.zoo as foz\n",
    "\n",
    "# Download and load 10 samples from the validation split of ActivityNet 200\n",
    "dataset = foz.load_zoo_dataset(\n",
    "    name=\"activitynet-200\",\n",
    "    split=\"validation\",\n",
    "    max_samples=5,\n",
    ")\n",
    "\n",
    "session = fo.launch_app(dataset)"
   ]
  }
 ],
 "metadata": {
  "kernelspec": {
   "display_name": "tf",
   "language": "python",
   "name": "python3"
  },
  "language_info": {
   "codemirror_mode": {
    "name": "ipython",
    "version": 3
   },
   "file_extension": ".py",
   "mimetype": "text/x-python",
   "name": "python",
   "nbconvert_exporter": "python",
   "pygments_lexer": "ipython3",
   "version": "3.8.16"
  },
  "orig_nbformat": 4
 },
 "nbformat": 4,
 "nbformat_minor": 2
}
